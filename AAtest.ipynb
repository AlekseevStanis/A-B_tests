{
 "cells": [
  {
   "cell_type": "code",
   "execution_count": 1,
   "id": "5183c151-5714-434e-804d-c00ad1a161e1",
   "metadata": {},
   "outputs": [],
   "source": [
    "import pandas as pd\n",
    "import pandahouse as ph\n",
    "import numpy as np\n",
    "import seaborn as sns\n",
    "import hashlib\n",
    "from scipy import stats"
   ]
  },
  {
   "cell_type": "code",
   "execution_count": 2,
   "id": "c0040456-7514-4cb1-8dd0-461f9c30973b",
   "metadata": {},
   "outputs": [],
   "source": [
    "connection = { } # DataBase "
   ]
  },
  {
   "cell_type": "markdown",
   "id": "afe02534-e951-416a-9929-aed0443ee066",
   "metadata": {},
   "source": [
    "#### AA test"
   ]
  },
  {
   "cell_type": "code",
   "execution_count": 3,
   "id": "277c8963-4db9-482c-9e1f-91902e545999",
   "metadata": {},
   "outputs": [
    {
     "data": {
      "text/html": [
       "<div>\n",
       "<style scoped>\n",
       "    .dataframe tbody tr th:only-of-type {\n",
       "        vertical-align: middle;\n",
       "    }\n",
       "\n",
       "    .dataframe tbody tr th {\n",
       "        vertical-align: top;\n",
       "    }\n",
       "\n",
       "    .dataframe thead th {\n",
       "        text-align: right;\n",
       "    }\n",
       "</style>\n",
       "<table border=\"1\" class=\"dataframe\">\n",
       "  <thead>\n",
       "    <tr style=\"text-align: right;\">\n",
       "      <th></th>\n",
       "      <th>exp_group</th>\n",
       "      <th>user_id</th>\n",
       "      <th>likes</th>\n",
       "      <th>views</th>\n",
       "      <th>ctr</th>\n",
       "    </tr>\n",
       "  </thead>\n",
       "  <tbody>\n",
       "    <tr>\n",
       "      <th>0</th>\n",
       "      <td>3</td>\n",
       "      <td>115383</td>\n",
       "      <td>11</td>\n",
       "      <td>36</td>\n",
       "      <td>0.305556</td>\n",
       "    </tr>\n",
       "    <tr>\n",
       "      <th>1</th>\n",
       "      <td>3</td>\n",
       "      <td>123580</td>\n",
       "      <td>15</td>\n",
       "      <td>92</td>\n",
       "      <td>0.163043</td>\n",
       "    </tr>\n",
       "    <tr>\n",
       "      <th>2</th>\n",
       "      <td>2</td>\n",
       "      <td>131473</td>\n",
       "      <td>26</td>\n",
       "      <td>148</td>\n",
       "      <td>0.175676</td>\n",
       "    </tr>\n",
       "    <tr>\n",
       "      <th>3</th>\n",
       "      <td>2</td>\n",
       "      <td>23985</td>\n",
       "      <td>12</td>\n",
       "      <td>66</td>\n",
       "      <td>0.181818</td>\n",
       "    </tr>\n",
       "    <tr>\n",
       "      <th>4</th>\n",
       "      <td>2</td>\n",
       "      <td>24523</td>\n",
       "      <td>17</td>\n",
       "      <td>120</td>\n",
       "      <td>0.141667</td>\n",
       "    </tr>\n",
       "  </tbody>\n",
       "</table>\n",
       "</div>"
      ],
      "text/plain": [
       "   exp_group  user_id  likes  views       ctr\n",
       "0          3   115383     11     36  0.305556\n",
       "1          3   123580     15     92  0.163043\n",
       "2          2   131473     26    148  0.175676\n",
       "3          2    23985     12     66  0.181818\n",
       "4          2    24523     17    120  0.141667"
      ]
     },
     "execution_count": 3,
     "metadata": {},
     "output_type": "execute_result"
    }
   ],
   "source": [
    "q = \"\"\"\n",
    "\n",
    "\"\"\" # querry \n",
    " "
   ]
  },
  {
   "cell_type": "code",
   "execution_count": null,
   "id": "88daceb5-70a0-42ba-b46a-6c526ed0bedd",
   "metadata": {},
   "outputs": [],
   "source": [
    "users_df = ph.read_clickhouse(q, connection=connection) # user extraction for clickhouse\n",
    "\n",
    "users_df['hash_group'] = users_df.user_id.swifter.apply(ab_split) # spliting groups \n",
    "\n",
    "users_df.groupby('hash_group').user_id.nunique().reset_index() # looking for users number in groups"
   ]
  },
  {
   "cell_type": "markdown",
   "id": "82941150-0c9b-424e-8a20-db049fe96cae",
   "metadata": {},
   "source": [
    "Проведем АА тест 10000 раз с проверкой Т-критерием"
   ]
  },
  {
   "cell_type": "code",
   "execution_count": 4,
   "id": "0390d7a3-840d-4390-92f5-95470ee2f92a",
   "metadata": {},
   "outputs": [
    {
     "name": "stderr",
     "output_type": "stream",
     "text": [
      "/nfs/env/lib/python3.8/site-packages/seaborn/distributions.py:2557: FutureWarning: `distplot` is a deprecated function and will be removed in a future version. Please adapt your code to use either `displot` (a figure-level function with similar flexibility) or `histplot` (an axes-level function for histograms).\n",
      "  warnings.warn(msg, FutureWarning)\n"
     ]
    },
    {
     "data": {
      "text/plain": [
       "<AxesSubplot:>"
      ]
     },
     "execution_count": 4,
     "metadata": {},
     "output_type": "execute_result"
    },
    {
     "data": {
      "image/png": "[encoded data removed]",
      "text/plain": [
       "<Figure size 432x288 with 1 Axes>"
      ]
     },
     "metadata": {
      "needs_background": "light"
     },
     "output_type": "display_data"
    }
   ],
   "source": [
    "p=[] # repete AA test  10000 times to be sure that spliting is vorrect\n",
    "for i in range(10000):\n",
    "    pvalue=stats.ttest_ind(df[df.exp_group == 2].ctr.sample(n=500),\n",
    "                df[df.exp_group == 3].ctr.sample(n=500),\n",
    "                equal_var=False).pvalue\n",
    "    p.append(pvalue)\n",
    "sns.distplot(p,kde = False)   "
   ]
  },
  {
   "cell_type": "code",
   "execution_count": 5,
   "id": "0be94e4a-8a5e-4ec3-b16d-d2a7d289c1dc",
   "metadata": {},
   "outputs": [
    {
     "name": "stdout",
     "output_type": "stream",
     "text": [
      "Количество pvalue ниже значения 0.05 составляет 4.55% \n",
      " делаем вывод что система сплитирования работает\n"
     ]
    }
   ],
   "source": [
    "miss = sum(map(lambda x : x<= 0.05, p))/len(p)*100\n",
    "print('pvalue lower then 0.05 in '+str(miss)+'% \\n spliting system working correctly')"
   ]
  }
 ],
 "metadata": {
  "kernelspec": {
   "display_name": "Python 3 (ipykernel)",
   "language": "python",
   "name": "python3"
  },
  "language_info": {
   "codemirror_mode": {
    "name": "ipython",
    "version": 3
   },
   "file_extension": ".py",
   "mimetype": "text/x-python",
   "name": "python",
   "nbconvert_exporter": "python",
   "pygments_lexer": "ipython3",
   "version": "3.7.1"
  }
 },
 "nbformat": 4,
 "nbformat_minor": 5
}
