{
 "cells": [
  {
   "cell_type": "code",
   "execution_count": 1,
   "id": "5183c151-5714-434e-804d-c00ad1a161e1",
   "metadata": {},
   "outputs": [],
   "source": [
    "import pandas as pd\n",
    "import pandahouse as ph\n",
    "import numpy as np\n",
    "import seaborn as sns\n",
    "import hashlib\n",
    "from scipy import stats"
   ]
  },
  {
   "cell_type": "code",
   "execution_count": 2,
   "id": "c0040456-7514-4cb1-8dd0-461f9c30973b",
   "metadata": {},
   "outputs": [],
   "source": [
    "connection = { } # coonection parametres"
   ]
  },
  {
   "cell_type": "markdown",
   "id": "e43baf6b-7cf8-4b91-b837-baf2a46b64e0",
   "metadata": {},
   "source": [
    "### A/B test results\n"
   ]
  },
  {
   "cell_type": "code",
   "execution_count": 3,
   "id": "49ae3c6a-d163-4825-a136-996630a19041",
   "metadata": {},
   "outputs": [],
   "source": [
    "q = \"\"\"\n",
    "\"\"\" #extaracting users by groups and target metrics\n",
    "\n",
    "df_t = ph.read_clickhouse(q, connection=connection)\n",
    "metric_name=\"CTR\" # target metric"
   ]
  },
  {
   "cell_type": "code",
   "execution_count": 4,
   "id": "0ea9bc3d-3f51-44a9-9851-d18631f751cd",
   "metadata": {},
   "outputs": [
    {
     "name": "stdout",
     "output_type": "stream",
     "text": [
      "Средний СTR контрольной группы: 0.21560459841296287 \n",
      "Средний CTR тестовой группы: 0.21441927347479375\n"
     ]
    }
   ],
   "source": [
    "print('Mean {metric_name} of control group: '+str(df_t[df_t.exp_group==1].ctr.mean())+ ' \\n Mean {metric_name} of control group: '+str(df_t[df_t.exp_group==2].ctr.mean()))"
   ]
  },
  {
   "cell_type": "code",
   "execution_count": 5,
   "id": "7f79201b-8b05-49b9-8970-93be898a2006",
   "metadata": {},
   "outputs": [
    {
     "data": {
      "image/png": "[encoded data removed]",
      "text/plain": [
       "<Figure size 432x288 with 1 Axes>"
      ]
     },
     "metadata": {
      "needs_background": "light"
     },
     "output_type": "display_data"
    }
   ],
   "source": [
    "groups = sns.histplot(data = df_t, \n",
    "              x='ctr', \n",
    "              hue='exp_group', \n",
    "              palette = ['r', 'b'],\n",
    "              alpha=0.5,\n",
    "              kde=False)"
   ]
  },
  {
   "cell_type": "markdown",
   "id": "c771703f-fe74-4d32-a281-f3e71f229560",
   "metadata": {},
   "source": [
    "#### Using smoothing of CTR"
   ]
  },
  {
   "cell_type": "code",
   "execution_count": 6,
   "id": "b051af35-dbae-41fd-96db-3b77d1d7fde9",
   "metadata": {},
   "outputs": [
    {
     "name": "stderr",
     "output_type": "stream",
     "text": [
      "/nfs/env/lib/python3.8/site-packages/seaborn/distributions.py:2557: FutureWarning: `distplot` is a deprecated function and will be removed in a future version. Please adapt your code to use either `displot` (a figure-level function with similar flexibility) or `histplot` (an axes-level function for histograms).\n",
      "  warnings.warn(msg, FutureWarning)\n"
     ]
    },
    {
     "data": {
      "text/plain": [
       "<AxesSubplot:xlabel='ctr'>"
      ]
     },
     "execution_count": 6,
     "metadata": {},
     "output_type": "execute_result"
    },
    {
     "data": {
      "image/png": "[encoded data removed]",
      "text/plain": [
       "<Figure size 432x288 with 1 Axes>"
      ]
     },
     "metadata": {
      "needs_background": "light"
     },
     "output_type": "display_data"
    }
   ],
   "source": [
    "def get_smothed_ctr(user_likes, user_views, global_ctr, alpha):\n",
    "    smothed_ctr = (user_likes + alpha * global_ctr) / (user_views + alpha)\n",
    "    return smothed_ctr\n",
    "\n",
    "global_ctr_1 = df_t[df_t.exp_group == 1].likes.sum()/df_t[df_t.exp_group == 1].views.sum()\n",
    "global_ctr_2 = df_t[df_t.exp_group == 2].likes.sum()/df_t[df_t.exp_group == 2].views.sum()\n",
    "\n",
    "group1 = df_t[df_t.exp_group == 1].copy()\n",
    "group2 = df_t[df_t.exp_group == 2].copy()\n",
    "sns.distplot(group1.ctr, \n",
    "             kde = False)\n",
    "sns.distplot(group2.ctr, \n",
    "             kde = False)"
   ]
  },
  {
   "cell_type": "markdown",
   "id": "c04f2bff-de2b-43a5-869f-163d3974e8cf",
   "metadata": {},
   "source": [
    "#### Using mann-whitney test"
   ]
  },
  {
   "cell_type": "code",
   "execution_count": 7,
   "id": "e2cd2eac-d195-4603-b7d3-98f62fd09c73",
   "metadata": {},
   "outputs": [
    {
     "data": {
      "text/plain": [
       "MannwhitneyuResult(statistic=56601260.5, pvalue=6.0376484617779035e-56)"
      ]
     },
     "execution_count": 7,
     "metadata": {},
     "output_type": "execute_result"
    }
   ],
   "source": [
    "stats.mannwhitneyu(df_t[df_t.exp_group == 1].ctr, \n",
    "                   df_t[df_t.exp_group == 2].ctr,\n",
    "                   alternative = 'two-sided')"
   ]
  },
  {
   "cell_type": "markdown",
   "id": "0cdc1007-ce7b-4995-a093-ce4505ce6252",
   "metadata": {},
   "source": [
    "#### Using Bootstrap"
   ]
  },
  {
   "cell_type": "code",
   "execution_count": 8,
   "id": "2594ba29-e88d-403f-95f9-c1198fc173e5",
   "metadata": {},
   "outputs": [],
   "source": [
    "def bootstrap(likes1, views1, likes2, views2, n_bootstrap=2000):\n",
    "\n",
    "    poisson_bootstraps1 = stats.poisson(1).rvs(\n",
    "        (n_bootstrap, len(likes1))).astype(np.int64)\n",
    "\n",
    "    poisson_bootstraps2 = stats.poisson(1).rvs(\n",
    "            (n_bootstrap, len(likes2))).astype(np.int64)\n",
    "    \n",
    "    globalCTR1 = (poisson_bootstraps1*likes1).sum(axis=1)/(poisson_bootstraps1*views1).sum(axis=1)\n",
    "    \n",
    "    globalCTR2 = (poisson_bootstraps2*likes2).sum(axis=1)/(poisson_bootstraps2*views2).sum(axis=1)\n",
    "\n",
    "    return globalCTR1, globalCTR2"
   ]
  },
  {
   "cell_type": "code",
   "execution_count": 9,
   "id": "552e69df-c05f-45ac-8283-bcb481dfcd81",
   "metadata": {},
   "outputs": [
    {
     "data": {
      "text/plain": [
       "<AxesSubplot:ylabel='Count'>"
      ]
     },
     "execution_count": 9,
     "metadata": {},
     "output_type": "execute_result"
    },
    {
     "data": {
      "image/png": "[encoded data removed]",
      "text/plain": [
       "<Figure size 432x288 with 1 Axes>"
      ]
     },
     "metadata": {
      "needs_background": "light"
     },
     "output_type": "display_data"
    }
   ],
   "source": [
    "likes1 = df_t[df_t.exp_group == 1].likes.to_numpy()\n",
    "views1 = df_t[df_t.exp_group == 1].views.to_numpy()\n",
    "likes2 = df_t[df_t.exp_group == 2].likes.to_numpy()\n",
    "views2 = df_t[df_t.exp_group == 2].views.to_numpy()\n",
    "\n",
    "ctr1, ctr2 = bootstrap(likes1, views1, likes2, views2)\n",
    "\n",
    "sns.histplot(ctr1, color='red')\n",
    "sns.histplot(ctr2)"
   ]
  },
  {
   "cell_type": "markdown",
   "id": "7250fef4-89dd-4a48-a05d-562d709c07d6",
   "metadata": {},
   "source": [
    "### Using sample transformation"
   ]
  },
  {
   "cell_type": "code",
   "execution_count": 10,
   "id": "c59a975f-3251-43ca-a2de-47f1f4c79362",
   "metadata": {},
   "outputs": [
    {
     "data": {
      "text/plain": [
       "MannwhitneyuResult(statistic=1995.0, pvalue=2.859963936492646e-07)"
      ]
     },
     "execution_count": 10,
     "metadata": {},
     "output_type": "execute_result"
    }
   ],
   "source": [
    "q = \"\"\"\n",
    "\n",
    "SELECT exp_group, bucket,\n",
    "    sum(likes)/sum(views) as bucket_ctr,\n",
    "    quantileExact(0.9)(ctr) as ctr9\n",
    "FROM (SELECT exp_group, \n",
    "        xxHash64(user_id)%50 as bucket,\n",
    "        user_id,\n",
    "        sum(action = 'like') as likes,\n",
    "        sum(action = 'view') as views,\n",
    "        likes/views as ctr\n",
    "    FROM {db}.feed_actions \n",
    "    WHERE toDate(time) between '2022-12-02' and '2022-12-08'\n",
    "        and exp_group in (1,2)\n",
    "    GROUP BY exp_group, bucket, user_id)\n",
    "GROUP BY exp_group, bucket\n",
    "\"\"\"\n",
    "\n",
    "df_t2 = ph.read_clickhouse(q, connection=connection)\n",
    "\n",
    "#тест Манна-Уитни видит отличие\n",
    "stats.mannwhitneyu(df_t2[df_t2.exp_group == 1].bucket_ctr, \n",
    "                   df_t2[df_t2.exp_group == 2].bucket_ctr, \n",
    "                   alternative = 'two-sided')"
   ]
  },
  {
   "cell_type": "code",
   "execution_count": 11,
   "id": "69a2e054-959c-46e0-b8a5-e68a17255697",
   "metadata": {},
   "outputs": [
    {
     "data": {
      "text/plain": [
       "<AxesSubplot:xlabel='ctr9', ylabel='Count'>"
      ]
     },
     "execution_count": 11,
     "metadata": {},
     "output_type": "execute_result"
    },
    {
     "data": {
      "image/png": "[encoded data removed]",
      "text/plain": [
       "<Figure size 432x288 with 1 Axes>"
      ]
     },
     "metadata": {
      "needs_background": "light"
     },
     "output_type": "display_data"
    }
   ],
   "source": [
    "sns.histplot(df_t2[df_t2.exp_group == 2].ctr9)"
   ]
  },
  {
   "cell_type": "code",
   "execution_count": 12,
   "id": "d8ace928-f359-409d-aeaa-911b7bc55b4b",
   "metadata": {},
   "outputs": [
    {
     "data": {
      "text/plain": [
       "<AxesSubplot:xlabel='ctr9', ylabel='Count'>"
      ]
     },
     "execution_count": 12,
     "metadata": {},
     "output_type": "execute_result"
    },
    {
     "data": {
      "image/png": "[encoded data removed]",
      "text/plain": [
       "<Figure size 432x288 with 1 Axes>"
      ]
     },
     "metadata": {
      "needs_background": "light"
     },
     "output_type": "display_data"
    }
   ],
   "source": [
    "sns.histplot(df_t2[df_t2.exp_group == 1].ctr9)"
   ]
  },
  {
   "cell_type": "markdown",
   "id": "4cc80fd5-012b-4c3d-a1ce-f37799953e5d",
   "metadata": {},
   "source": [
    "### Exprimentation in time series"
   ]
  },
  {
   "cell_type": "code",
   "execution_count": 13,
   "id": "ad3d1a59-5b56-406d-b891-d92e94ed4425",
   "metadata": {},
   "outputs": [
    {
     "data": {
      "text/html": [
       "<div>\n",
       "<style scoped>\n",
       "    .dataframe tbody tr th:only-of-type {\n",
       "        vertical-align: middle;\n",
       "    }\n",
       "\n",
       "    .dataframe tbody tr th {\n",
       "        vertical-align: top;\n",
       "    }\n",
       "\n",
       "    .dataframe thead th {\n",
       "        text-align: right;\n",
       "    }\n",
       "</style>\n",
       "<table border=\"1\" class=\"dataframe\">\n",
       "  <thead>\n",
       "    <tr style=\"text-align: right;\">\n",
       "      <th></th>\n",
       "      <th>exp_group</th>\n",
       "      <th>toDate(time)</th>\n",
       "      <th>likes</th>\n",
       "      <th>views</th>\n",
       "      <th>ctr</th>\n",
       "    </tr>\n",
       "  </thead>\n",
       "  <tbody>\n",
       "    <tr>\n",
       "      <th>0</th>\n",
       "      <td>1</td>\n",
       "      <td>2022-12-05</td>\n",
       "      <td>19057</td>\n",
       "      <td>90118</td>\n",
       "      <td>0.211467</td>\n",
       "    </tr>\n",
       "    <tr>\n",
       "      <th>1</th>\n",
       "      <td>1</td>\n",
       "      <td>2022-12-06</td>\n",
       "      <td>22425</td>\n",
       "      <td>108708</td>\n",
       "      <td>0.206287</td>\n",
       "    </tr>\n",
       "    <tr>\n",
       "      <th>2</th>\n",
       "      <td>1</td>\n",
       "      <td>2022-12-07</td>\n",
       "      <td>24024</td>\n",
       "      <td>115758</td>\n",
       "      <td>0.207536</td>\n",
       "    </tr>\n",
       "    <tr>\n",
       "      <th>3</th>\n",
       "      <td>1</td>\n",
       "      <td>2022-12-04</td>\n",
       "      <td>15646</td>\n",
       "      <td>74009</td>\n",
       "      <td>0.211407</td>\n",
       "    </tr>\n",
       "    <tr>\n",
       "      <th>4</th>\n",
       "      <td>1</td>\n",
       "      <td>2022-12-08</td>\n",
       "      <td>23737</td>\n",
       "      <td>115958</td>\n",
       "      <td>0.204703</td>\n",
       "    </tr>\n",
       "  </tbody>\n",
       "</table>\n",
       "</div>"
      ],
      "text/plain": [
       "   exp_group toDate(time)  likes   views       ctr\n",
       "0          1   2022-12-05  19057   90118  0.211467\n",
       "1          1   2022-12-06  22425  108708  0.206287\n",
       "2          1   2022-12-07  24024  115758  0.207536\n",
       "3          1   2022-12-04  15646   74009  0.211407\n",
       "4          1   2022-12-08  23737  115958  0.204703"
      ]
     },
     "execution_count": 13,
     "metadata": {},
     "output_type": "execute_result"
    }
   ],
   "source": [
    "q2 = \"\"\"\n",
    "SELECT exp_group,\n",
    "    toDate(time),\n",
    "    sum(action = 'like') as likes,\n",
    "    sum(action = 'view') as views,\n",
    "    likes/views as ctr\n",
    "FROM {db}.feed_actions \n",
    "WHERE toDate(time) between '2022-12-02' and '2022-12-08'\n",
    "    and exp_group in (1,2)\n",
    "GROUP BY toDate(time), exp_group\n",
    "\"\"\"\n",
    "\n",
    "df_t1 = ph.read_clickhouse(q2, connection=connection)\n",
    "df_t1.head()"
   ]
  },
  {
   "cell_type": "code",
   "execution_count": 14,
   "id": "df356460-d52b-4bea-93b7-09923ea00053",
   "metadata": {},
   "outputs": [
    {
     "data": {
      "text/plain": [
       "<AxesSubplot:xlabel='toDate(time)', ylabel='ctr'>"
      ]
     },
     "execution_count": 14,
     "metadata": {},
     "output_type": "execute_result"
    },
    {
     "data": {
      "image/png": "[encoded data removed]",
      "text/plain": [
       "<Figure size 432x288 with 1 Axes>"
      ]
     },
     "metadata": {
      "needs_background": "light"
     },
     "output_type": "display_data"
    }
   ],
   "source": [
    "sns.lineplot(data=df_t1, x=\"toDate(time)\", y=\"ctr\", hue=\"exp_group\")"
   ]
  },
  {
   "cell_type": "code",
   "execution_count": 15,
   "id": "2d7be225-a0f9-4e4e-bce8-81bac8a3fffd",
   "metadata": {},
   "outputs": [
    {
     "data": {
      "text/html": [
       "<div>\n",
       "<style scoped>\n",
       "    .dataframe tbody tr th:only-of-type {\n",
       "        vertical-align: middle;\n",
       "    }\n",
       "\n",
       "    .dataframe tbody tr th {\n",
       "        vertical-align: top;\n",
       "    }\n",
       "\n",
       "    .dataframe thead th {\n",
       "        text-align: right;\n",
       "    }\n",
       "</style>\n",
       "<table border=\"1\" class=\"dataframe\">\n",
       "  <thead>\n",
       "    <tr style=\"text-align: right;\">\n",
       "      <th></th>\n",
       "      <th>exp_group</th>\n",
       "      <th>toDate(time)</th>\n",
       "      <th>user_id</th>\n",
       "      <th>gender</th>\n",
       "      <th>os</th>\n",
       "      <th>age</th>\n",
       "      <th>country</th>\n",
       "      <th>likes</th>\n",
       "      <th>views</th>\n",
       "      <th>ctr</th>\n",
       "    </tr>\n",
       "  </thead>\n",
       "  <tbody>\n",
       "    <tr>\n",
       "      <th>0</th>\n",
       "      <td>2</td>\n",
       "      <td>2022-12-05</td>\n",
       "      <td>109408</td>\n",
       "      <td>1</td>\n",
       "      <td>iOS</td>\n",
       "      <td>17</td>\n",
       "      <td>Russia</td>\n",
       "      <td>5</td>\n",
       "      <td>45</td>\n",
       "      <td>0.111111</td>\n",
       "    </tr>\n",
       "    <tr>\n",
       "      <th>1</th>\n",
       "      <td>2</td>\n",
       "      <td>2022-12-08</td>\n",
       "      <td>135357</td>\n",
       "      <td>1</td>\n",
       "      <td>iOS</td>\n",
       "      <td>28</td>\n",
       "      <td>Russia</td>\n",
       "      <td>12</td>\n",
       "      <td>54</td>\n",
       "      <td>0.222222</td>\n",
       "    </tr>\n",
       "    <tr>\n",
       "      <th>2</th>\n",
       "      <td>2</td>\n",
       "      <td>2022-12-04</td>\n",
       "      <td>11043</td>\n",
       "      <td>0</td>\n",
       "      <td>Android</td>\n",
       "      <td>18</td>\n",
       "      <td>Russia</td>\n",
       "      <td>0</td>\n",
       "      <td>14</td>\n",
       "      <td>0.000000</td>\n",
       "    </tr>\n",
       "    <tr>\n",
       "      <th>3</th>\n",
       "      <td>2</td>\n",
       "      <td>2022-12-06</td>\n",
       "      <td>128116</td>\n",
       "      <td>0</td>\n",
       "      <td>Android</td>\n",
       "      <td>49</td>\n",
       "      <td>Azerbaijan</td>\n",
       "      <td>20</td>\n",
       "      <td>45</td>\n",
       "      <td>0.444444</td>\n",
       "    </tr>\n",
       "    <tr>\n",
       "      <th>4</th>\n",
       "      <td>2</td>\n",
       "      <td>2022-12-02</td>\n",
       "      <td>26222</td>\n",
       "      <td>0</td>\n",
       "      <td>iOS</td>\n",
       "      <td>27</td>\n",
       "      <td>Russia</td>\n",
       "      <td>12</td>\n",
       "      <td>31</td>\n",
       "      <td>0.387097</td>\n",
       "    </tr>\n",
       "  </tbody>\n",
       "</table>\n",
       "</div>"
      ],
      "text/plain": [
       "   exp_group toDate(time)  user_id  gender       os  age     country  likes  \\\n",
       "0          2   2022-12-05   109408       1      iOS   17      Russia      5   \n",
       "1          2   2022-12-08   135357       1      iOS   28      Russia     12   \n",
       "2          2   2022-12-04    11043       0  Android   18      Russia      0   \n",
       "3          2   2022-12-06   128116       0  Android   49  Azerbaijan     20   \n",
       "4          2   2022-12-02    26222       0      iOS   27      Russia     12   \n",
       "\n",
       "   views       ctr  \n",
       "0     45  0.111111  \n",
       "1     54  0.222222  \n",
       "2     14  0.000000  \n",
       "3     45  0.444444  \n",
       "4     31  0.387097  "
      ]
     },
     "execution_count": 15,
     "metadata": {},
     "output_type": "execute_result"
    }
   ],
   "source": [
    "q2 = \"\"\"\n",
    "SELECT exp_group,\n",
    "    toDate(time),\n",
    "    user_id,\n",
    "    gender,\n",
    "    max(os) as os,\n",
    "    max(age) as age,\n",
    "    max(country) as country,\n",
    "    sum(action = 'like') as likes,\n",
    "    sum(action = 'view') as views,\n",
    "    likes/views as ctr\n",
    "FROM {db}.feed_actions \n",
    "WHERE toDate(time) between '2022-12-02' and '2022-12-08'\n",
    "    and exp_group in (1,2)\n",
    "GROUP BY toDate(time), exp_group, user_id, gender\n",
    "\"\"\"\n",
    "df_t3 = ph.read_clickhouse(q2, connection=connection)\n",
    "df_t3.head()"
   ]
  },
  {
   "cell_type": "markdown",
   "id": "aec9e3d9-dbb7-4adf-867f-9cd17249ae1d",
   "metadata": {},
   "source": [
    "### Looking for distribution by sex"
   ]
  },
  {
   "cell_type": "code",
   "execution_count": 16,
   "id": "43af9a9c-cfb3-4c29-b024-fc0949362e54",
   "metadata": {},
   "outputs": [
    {
     "data": {
      "image/png": "[encoded data removed]",
      "text/plain": [
       "<Figure size 432x288 with 1 Axes>"
      ]
     },
     "metadata": {
      "needs_background": "light"
     },
     "output_type": "display_data"
    }
   ],
   "source": [
    "groups = sns.histplot(data = df_t3[df_t3.exp_group==2], \n",
    "              x='ctr', \n",
    "              hue='gender', \n",
    "              palette = ['r', 'b'],\n",
    "              alpha=0.5,\n",
    "              kde=False)"
   ]
  },
  {
   "cell_type": "markdown",
   "id": "f3277cf9-e21e-46ee-aa37-27b8cb071c44",
   "metadata": {},
   "source": [
    "### Looking for distribution by OS"
   ]
  },
  {
   "cell_type": "code",
   "execution_count": 17,
   "id": "b34f6c06-9b77-4253-94f7-aded465303d6",
   "metadata": {},
   "outputs": [
    {
     "data": {
      "image/png": "[encoded data removed]",
      "text/plain": [
       "<Figure size 432x288 with 1 Axes>"
      ]
     },
     "metadata": {
      "needs_background": "light"
     },
     "output_type": "display_data"
    }
   ],
   "source": [
    "groups = sns.histplot(data = df_t3[df_t3.exp_group==2], \n",
    "              x='ctr', \n",
    "              hue='os', \n",
    "              palette = ['r', 'b'],\n",
    "              alpha=0.5,\n",
    "              kde=False)"
   ]
  },
  {
   "cell_type": "markdown",
   "id": "6b1364db-da74-41ea-a223-5295ce864ca6",
   "metadata": {},
   "source": [
    "### Looking for distribution by age"
   ]
  },
  {
   "cell_type": "code",
   "execution_count": 18,
   "id": "ea6141d1-1761-4262-97ff-3924da03bfad",
   "metadata": {},
   "outputs": [
    {
     "data": {
      "image/png": "[encoded data removed]",
      "text/plain": [
       "<Figure size 432x288 with 1 Axes>"
      ]
     },
     "metadata": {
      "needs_background": "light"
     },
     "output_type": "display_data"
    }
   ],
   "source": [
    "bins=[15,25,35,45,55,100]\n",
    "labels=['15-25','25-35','35-45','45-55','55+']\n",
    "df_t3['age_binned']=pd.cut(df_t3.age, bins=bins, labels=labels)\n",
    "groups = sns.histplot(data = df_t3[df_t3.exp_group==2], \n",
    "              x='ctr', \n",
    "              hue='age_binned', \n",
    "              alpha=0.5,\n",
    "              kde=False)"
   ]
  },
  {
   "cell_type": "markdown",
   "id": "a85596c1-2f0e-4d4a-9f38-a113b0e31df0",
   "metadata": {},
   "source": [
    "### Looking for distribution by country"
   ]
  },
  {
   "cell_type": "code",
   "execution_count": 19,
   "id": "4b637163-eff2-4473-83f8-160ad28411bb",
   "metadata": {},
   "outputs": [
    {
     "data": {
      "image/png": "[encoded data removed]",
      "text/plain": [
       "<Figure size 432x288 with 1 Axes>"
      ]
     },
     "metadata": {
      "needs_background": "light"
     },
     "output_type": "display_data"
    }
   ],
   "source": [
    "groups = sns.histplot(data = df_t3[df_t3.exp_group==2], \n",
    "              x='ctr', \n",
    "              hue='country', \n",
    "              alpha=0.5,\n",
    "              kde=False)"
   ]
  }
 ],
 "metadata": {
  "kernelspec": {
   "display_name": "Python 3 (ipykernel)",
   "language": "python",
   "name": "python3"
  },
  "language_info": {
   "codemirror_mode": {
    "name": "ipython",
    "version": 3
   },
   "file_extension": ".py",
   "mimetype": "text/x-python",
   "name": "python",
   "nbconvert_exporter": "python",
   "pygments_lexer": "ipython3",
   "version": "3.7.1"
  }
 },
 "nbformat": 4,
 "nbformat_minor": 5
}
